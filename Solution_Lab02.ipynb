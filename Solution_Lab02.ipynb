{
 "cells": [
  {
   "cell_type": "markdown",
   "id": "1ce8d48f-24ef-4db1-8dbf-406d0dd72d15",
   "metadata": {
    "deletable": true,
    "editable": true
   },
   "source": [
    "# Lab 2: Variable types and Branching\n",
    "\n",
    "Welcome to the second lab of the course. This lab covers:\n",
    "- Variable types\n",
    "- Using strings, printing to the screen, receiving input from the keyboard\n",
    "- Comparison operations and flow control with if/elif/else"
   ]
  },
  {
   "cell_type": "markdown",
   "id": "5cf28166",
   "metadata": {},
   "source": [
    "## Exercise 1: Variable types\n",
    "\n",
    "In the next cell, write a Python program that creates the following variables:\n",
    "- 'pi' is the conversion of str_pi to float\n",
    "- 'n6' is the conversion of pi to integer;\n",
    "- 'n7' is the conversion of pi+0.5 to integer;\n",
    "- 'n8' adds 0.5 to the conversion of pi to integer;\n",
    "- 'n9' is the type of 'n8';\n",
    "- 'n10' converts to string the sum of n6 and n7\n",
    "- 'n11' creates a string with the values of n6 and n7 separated by a '+'"
   ]
  },
  {
   "cell_type": "code",
   "execution_count": 9,
   "id": "1e1868ea",
   "metadata": {},
   "outputs": [
    {
     "name": "stdout",
     "output_type": "stream",
     "text": [
      "3.14159\n",
      "3\n",
      "3\n",
      "3.5\n",
      "<class 'float'>\n",
      "6\n",
      "3+3\n"
     ]
    }
   ],
   "source": [
    "str_pi = \"3.14159\"\n",
    "\n",
    "# Write the Python program here\n",
    "pi = float(str_pi)\n",
    "n6 = int(pi)\n",
    "n7 = int(pi+0.5)\n",
    "n8 = int(pi)+0.5\n",
    "n9 = type(n8)\n",
    "n10 = str(n6+n7)\n",
    "n11 = str(n6)+\"+\"+str(n7)\n",
    "\n",
    "# Uncomment to print results (expected results are commented)\n",
    "print(pi) # 3.14159\n",
    "print(n6) # 3\n",
    "print(n7) # 3\n",
    "print(n8) # 3.5\n",
    "print(n9) # <class 'float'>\n",
    "print(n10) # 6\n",
    "print(n11) # 3+3"
   ]
  },
  {
   "cell_type": "code",
   "execution_count": 10,
   "id": "dd230a29",
   "metadata": {},
   "outputs": [
    {
     "ename": "TypeError",
     "evalue": "type 'int' is not subscriptable",
     "output_type": "error",
     "traceback": [
      "\u001b[1;31m---------------------------------------------------------------------------\u001b[0m",
      "\u001b[1;31mTypeError\u001b[0m                                 Traceback (most recent call last)",
      "Cell \u001b[1;32mIn[10], line 7\u001b[0m\n\u001b[0;32m      3\u001b[0m circumference \u001b[38;5;241m=\u001b[39m \u001b[38;5;241m2\u001b[39m \u001b[38;5;241m*\u001b[39m pi \u001b[38;5;241m*\u001b[39m radius       \u001b[38;5;66;03m# Computes the circumference\u001b[39;00m\n\u001b[0;32m      5\u001b[0m \u001b[38;5;66;03m## Start checking errors from here\u001b[39;00m\n\u001b[1;32m----> 7\u001b[0m int_circumference \u001b[38;5;241m=\u001b[39m \u001b[38;5;28;43mint\u001b[39;49m\u001b[43m[\u001b[49m\u001b[43mcircumference\u001b[49m\u001b[43m]\u001b[49m  \u001b[38;5;66;03m# Converts the circumference to an integer number\u001b[39;00m\n\u001b[0;32m      9\u001b[0m type_of_circumference \u001b[38;5;241m=\u001b[39m Type(circumference) \u001b[38;5;66;03m# Stores the type of variable \"circumference\"\u001b[39;00m\n\u001b[0;32m     11\u001b[0m type_of_int_circumference \u001b[38;5;241m=\u001b[39m \u001b[38;5;28mtype\u001b[39m[int_circumference] \u001b[38;5;66;03m# Stores the type of variable \"circumference\"\u001b[39;00m\n",
      "\u001b[1;31mTypeError\u001b[0m: type 'int' is not subscriptable"
     ]
    }
   ],
   "source": [
    "pi = 3.14159\n",
    "radius = 42\n",
    "circumference = 2 * pi * radius       # Computes the circumference\n",
    "\n",
    "## Start checking errors from here\n",
    "\n",
    "int_circumference = int[circumference]  # Converts the circumference to an integer number\n",
    "\n",
    "type_of_circumference = Type(circumference) # Stores the type of variable \"circumference\"\n",
    "\n",
    "type_of_int_circumference = type[int_circumference] # Stores the type of variable \"circumference\"\n",
    "\n",
    "print(\"Circumference (truncated to integer)\", int_circumference)\n",
    "print(\"Variable types:\", type_of_circumference, type_of_int_circumference)"
   ]
  },
  {
   "cell_type": "code",
   "execution_count": 11,
   "id": "a9391e3d",
   "metadata": {},
   "outputs": [
    {
     "name": "stdout",
     "output_type": "stream",
     "text": [
      "Circumference (truncated to integer) 263\n",
      "Variable types: <class 'float'> <class 'int'>\n"
     ]
    }
   ],
   "source": [
    "pi = 3.14159\n",
    "radius = 42\n",
    "circumference = 2 * pi * radius       # Computes the circumference\n",
    "\n",
    "## Start checking errors from here\n",
    "\n",
    "int_circumference = int(circumference)  # Converts the circumference to an integer number\n",
    "\n",
    "type_of_circumference = type(circumference) # Stores the type of variable \"circumference\"\n",
    "\n",
    "type_of_int_circumference = type(int_circumference) # Stores the type of variable \"circumference\"\n",
    "\n",
    "print(\"Circumference (truncated to integer)\", int_circumference)\n",
    "print(\"Variable types:\", type_of_circumference, type_of_int_circumference)"
   ]
  },
  {
   "cell_type": "markdown",
   "id": "e734e5bf-5653-4320-bf81-0cca87fadf22",
   "metadata": {
    "deletable": true,
    "editable": true,
    "tags": []
   },
   "source": [
    "## Exercise 2: My Profile\n",
    "\n",
    "In the next cell, write a Python program that does the following:\n",
    "- create variables 'fname' and 'lname' with your first and last names, respectively\n",
    "- create variable 'email' that concatenates your first name, a dot, your last name, and \"@studio.unibo.it\"\n",
    "- create variable 'yearborn' and use the ```input()``` command to populate it with the year you were born (4-digits)\n",
    "- print an f-string that states something like \"I'm Alice Smith, I'm 25 years old, and my email is something like Alice.Smith@studio.unibo.it\"\n",
    "  - _Use the ```yeartoday``` variable to calculate the age_\n",
    "  - _Remember to cast the input to integer in order to make the calculation_"
   ]
  },
  {
   "cell_type": "code",
   "execution_count": null,
   "id": "8866c495-8b24-42e3-88cd-4fe18b89a210",
   "metadata": {
    "deletable": true,
    "editable": true,
    "tags": [
     "exercise"
    ]
   },
   "outputs": [],
   "source": [
    "from datetime import datetime\n",
    "yeartoday = datetime.today().year\n",
    "\n",
    "# Write your Python program here\n",
    "fname = \"Enrico\"\n",
    "lname = \"Gallinucci\"\n",
    "email = fname + \".\" + lname + \"@studio.unibo.it\"\n",
    "yearborn = int(input(\"Insert the year you were born (4-digits)\"))\n",
    "\n",
    "print(f\"I'm {fname} {lname}, I'm {yeartoday-yearborn} years old, and my email is something like {email}\")"
   ]
  },
  {
   "cell_type": "markdown",
   "id": "a3876e98-02bb-4c0a-a9fd-b8d9c0c07e9c",
   "metadata": {
    "editable": true,
    "tags": []
   },
   "source": [
    "## Exercise 3: Branching\n",
    "\n",
    "Create a variable 'n' populated with an input prompt, asking the user to put his/her age, and convert it to integer; then, implement the following conditional statements.\n",
    "- If the number is below 1, print an error message stating that the number should be >0; otherwise, continue with the next control.\n",
    "- If the number is lower than 10 or greater than 99, then print an error message stating that the user is not trustworthy; otherwise, continue with the next control.\n",
    "- If the number is between 40 and 60, print a message stating \"Boomer alert!\".\n",
    "- Independently of the above check, print whether the number is odd or even.\n",
    "\n",
    "Use the least number of statements as possible."
   ]
  },
  {
   "cell_type": "code",
   "execution_count": 20,
   "id": "8edc545d",
   "metadata": {},
   "outputs": [
    {
     "name": "stdout",
     "output_type": "stream",
     "text": [
      "Boomer alert!\n",
      "The number is even\n"
     ]
    }
   ],
   "source": [
    "n = int(input(\"Enter your age\"))\n",
    "if(n<1):\n",
    "    print(\"The number should be greater than 0\")\n",
    "elif(n<10 or n>99):\n",
    "    print(\"You are not trustworthy!\")\n",
    "else:\n",
    "    if(n>=40 and n<=60):\n",
    "        print(\"Boomer alert!\")\n",
    "    if(n%2==1):\n",
    "        print(\"The number is odd\")\n",
    "    else:\n",
    "        print(\"The number is even\")\n",
    "\n",
    "# input: -2     output: \"number should be >0\"\n",
    "# input: 200    output: \"not trustworthy\"\n",
    "# input: 5      output: \"not trustworthy\"\n",
    "# input: 20     output: \"number is even\"\n",
    "# input: 21     output: \"number is odd\"\n",
    "# input: 40     output: \"boomer alert\", \"number is even\"\n",
    "# input: 41     output: \"boomer alert\", \"number is odd\"\n",
    "# input: 62     output: \"number is even\"\n",
    "# input: 61     output: \"number is odd\""
   ]
  },
  {
   "cell_type": "markdown",
   "id": "4180f6ba",
   "metadata": {},
   "source": [
    "**WARNING**: the following version is **not correct** because the odd/even statement is printed only for boomers (try it with 20)."
   ]
  },
  {
   "cell_type": "code",
   "execution_count": 2,
   "id": "9e66f3ad",
   "metadata": {},
   "outputs": [],
   "source": [
    "# Wrong version\n",
    "n = int(input(\"Enter your age\"))\n",
    "if(n<1):\n",
    "    print(\"The number should be greater than 0\")\n",
    "elif(n<10 or n>99):\n",
    "    print(\"You are not trustworthy!\")\n",
    "elif(n>=40 and n<=60):\n",
    "    print(\"Boomer alert!\")\n",
    "    if(n%2==1):\n",
    "        print(\"The number is odd\")\n",
    "    else:\n",
    "        print(\"The number is even\")\n",
    "\n",
    "# input: -2     output: \"number should be >0\"\n",
    "# input: 200    output: \"not trustworthy\"\n",
    "# input: 5      output: \"not trustworthy\"\n",
    "# input: 20     output: \"number is even\"\n",
    "# input: 21     output: \"number is odd\"\n",
    "# input: 40     output: \"boomer alert\", \"number is even\"\n",
    "# input: 41     output: \"boomer alert\", \"number is odd\"\n",
    "# input: 62     output: \"number is even\"\n",
    "# input: 61     output: \"number is odd\""
   ]
  },
  {
   "cell_type": "markdown",
   "id": "7be3a5c1-61f5-4da1-afd6-007b57534d8c",
   "metadata": {
    "editable": true,
    "tags": []
   },
   "source": [
    "## Exercise 4: Magic trick\n",
    "\n",
    "Replicate the following magic trick\n",
    "- Ask someone to pick a whole number (use the ```input()``` command and cast it to int)\n",
    "- Add the next higher number to it.\n",
    "- Add 9 and divide by 2, and then subtract the original number.\n",
    "- Print \"I guess that the result is 5!\" if the result is 5, otherwise print \"Wait, I'm not sure if this magic trick is working well..\"."
   ]
  },
  {
   "cell_type": "code",
   "execution_count": null,
   "id": "7c15dfc0-fb57-40ae-bdfa-2a232d6932ed",
   "metadata": {
    "tags": []
   },
   "outputs": [],
   "source": [
    "n = int(input(\"Pick a whole number\"))\n",
    "if(((n + (n+1) + 9)/2)-n==5):\n",
    "  print(\"I guess that the result is 5!\")\n",
    "else:\n",
    "  print(\"Wait, I'm not sure if this magic trick is working well..\")"
   ]
  },
  {
   "cell_type": "markdown",
   "id": "aab2c7dc-88bd-41d7-b651-086163668cc5",
   "metadata": {},
   "source": [
    "## Exercise 5: Additional exercises"
   ]
  },
  {
   "cell_type": "code",
   "execution_count": null,
   "id": "8e0d420f-f114-4832-a128-4c26e5fb4582",
   "metadata": {
    "tags": []
   },
   "outputs": [],
   "source": [
    "# Ask someone to enter the length and breadth of a rectangle and print its perimeter and area\n",
    "# Example: length=9, breadth=5, perimeter=28, area=45\n",
    "l = int(input(\"Enter the length of the rectangle\"))\n",
    "b = int(input(\"Enter the breadth of the rectangle\"))\n",
    "p = (l+b)*2\n",
    "a = l*b\n",
    "print(\"The perimeter is\",p,\"and the area is\",a)"
   ]
  },
  {
   "cell_type": "code",
   "execution_count": null,
   "id": "c19a8da8-2217-4757-8927-e19f925c5df6",
   "metadata": {
    "tags": []
   },
   "outputs": [],
   "source": [
    "# Ask someone to enter the radius of a circle and print its diameter and area\n",
    "# Example: radius=8, diameter=16, area=200.96\n",
    "r = int(input(\"Enter the radius of the circle\"))\n",
    "d = r*2\n",
    "a = 3.14*(r**2)\n",
    "print(\"The diameter is\",d,\"and the area is\",a)"
   ]
  },
  {
   "cell_type": "code",
   "execution_count": null,
   "id": "4ea3fadc-1ddb-4289-be46-b1d72531fa86",
   "metadata": {
    "tags": []
   },
   "outputs": [],
   "source": [
    "# Ask someone to enter a temperature in Celsius degrees and convert it to Fahrenheit (multiply by 9/5, then add 32)\n",
    "# Example: celsius=0, fahrenheit=32; celsius=18, fahrenheit=64.4\n",
    "c = int(input(\"Enter a temperature in Celsius degrees\"))\n",
    "f = (c*9/5)+32\n",
    "print(\"The temperature in Fahrenheit is\",f,\"°F\")"
   ]
  },
  {
   "cell_type": "code",
   "execution_count": null,
   "id": "eee6d5a0-7f2b-403f-8a8c-57df1203e511",
   "metadata": {
    "tags": []
   },
   "outputs": [],
   "source": [
    "# Ask someone to enter the base and height of triangle and print its area\n",
    "# Example: base=7, height=11; area=38.5\n",
    "b = int(input(\"Enter the base of the triangle\"))\n",
    "h = int(input(\"Enter the height of the triangle\"))\n",
    "a = b*h/2\n",
    "print(\"The area is\",a)"
   ]
  },
  {
   "cell_type": "code",
   "execution_count": null,
   "id": "84711d65-66c2-4990-9355-2f0fe5682e1b",
   "metadata": {
    "tags": []
   },
   "outputs": [],
   "source": [
    "# Ask someone to enter 3 grades from 18-30, compute their average and convert it to a scale of 110\n",
    "# Example: g1=25, g2=29, g3=30, avg=28, avg110=102.67\n",
    "g1 = int(input(\"Enter the 1st grade\"))\n",
    "g2 = int(input(\"Enter the 2nd grade\"))\n",
    "g3 = int(input(\"Enter the 3rd grade\"))\n",
    "avg = (g1+g2+g3)/3\n",
    "avg110 = avg*110/30\n",
    "print(\"The average is\",avg,\"/30 or\",avg110,\"/110\")"
   ]
  },
  {
   "cell_type": "code",
   "execution_count": null,
   "id": "b65bf515-d928-4a1a-801f-9cd4dee23c0a",
   "metadata": {
    "tags": []
   },
   "outputs": [],
   "source": [
    "# Ask someone to enter two numbers and print which is the maximum without using Python's 'max' function\n",
    "n1 = int(input(\"Enter the 1st number\"))\n",
    "n2 = int(input(\"Enter the 2nd number\"))\n",
    "if(n1>n2):\n",
    "    print(\"The 1st one is greater\")\n",
    "elif(n2>n1):\n",
    "    print(\"The 2nd one is greater\")\n",
    "else:\n",
    "    print(\"The numbers are equal\")"
   ]
  },
  {
   "cell_type": "code",
   "execution_count": null,
   "id": "6d6d1132-37a4-4ed7-bea6-55c7a80531d6",
   "metadata": {
    "tags": []
   },
   "outputs": [],
   "source": [
    "# Ask someone to enter a number from 1 to 7 and print the corresponding weekday from Monday to Sunday\n",
    "n = int(input(\"Enter a number from 1 to 7\"))\n",
    "if(n==1):\n",
    "    print(\"It's Monday\")\n",
    "elif(n==2):\n",
    "    print(\"It's Tuesday\")\n",
    "elif(n==3):\n",
    "    print(\"It's Wednesday\")\n",
    "elif(n==4):\n",
    "    print(\"It's Thurday\")\n",
    "elif(n==5):\n",
    "    print(\"It's Friday\")\n",
    "elif(n==6):\n",
    "    print(\"It's Saturday\")\n",
    "elif(n==7):\n",
    "    print(\"It's Sunday\")\n",
    "else:\n",
    "    print(\"Wrong input!\")"
   ]
  },
  {
   "cell_type": "code",
   "execution_count": null,
   "id": "9fccb493-5b8b-491e-8003-035fa21b29f1",
   "metadata": {
    "tags": []
   },
   "outputs": [],
   "source": [
    "# Ask someone to enter a non-negative number corresponding to their gross income and print the amount of taxes that they have to pay, knowing that\n",
    "# - If the income is <=10000, they have to pay 10%\n",
    "# - If the income is <=20000, they have to pay 10% for the first 10000 and 20% for the remaining part\n",
    "# - Otherwise, they have to pay 10% for the first 10000, 20% for the second 10000, and 30% for the remaining part\n",
    "# Example: income=8000, taxes=800; income=18000, taxes=2600; income=38000, taxes=8400; income=48000, taxes=11400; income=-100, taxes=0\n",
    "income = int(input(\"Enter a gross income\"))\n",
    "if(income>0 and income<=10000):\n",
    "    taxes = income*0.1\n",
    "elif(income>0 and income<=20000):\n",
    "    taxes = 10000*0.1 + (income-10000)*0.2\n",
    "elif(income>0):\n",
    "    taxes = 10000*0.1 + 10000*0.2 + (income-20000)*0.3\n",
    "else:\n",
    "    taxes = 0\n",
    "print(\"The taxes to be paid are\",taxes)"
   ]
  },
  {
   "cell_type": "code",
   "execution_count": null,
   "id": "2536d196",
   "metadata": {},
   "outputs": [],
   "source": [
    "# More efficient\n",
    "income = int(input(\"Enter a gross income\"))\n",
    "taxes = 0\n",
    "if income>0:\n",
    "    taxes += min(income, 10000)*0.1\n",
    "if income>10000:\n",
    "    taxes += min(income-10000, 10000)*0.2\n",
    "if income>20000:\n",
    "    taxes += (income-20000)*0.3\n",
    "print(\"The taxes to be paid are\",taxes)"
   ]
  }
 ],
 "metadata": {
  "kernelspec": {
   "display_name": "Python 3 (ipykernel)",
   "language": "python",
   "name": "python3"
  },
  "language_info": {
   "codemirror_mode": {
    "name": "ipython",
    "version": 3
   },
   "file_extension": ".py",
   "mimetype": "text/x-python",
   "name": "python",
   "nbconvert_exporter": "python",
   "pygments_lexer": "ipython3",
   "version": "3.12.4"
  },
  "toc-autonumbering": false,
  "toc-showcode": true,
  "toc-showmarkdowntxt": true,
  "toc-showtags": false
 },
 "nbformat": 4,
 "nbformat_minor": 5
}
