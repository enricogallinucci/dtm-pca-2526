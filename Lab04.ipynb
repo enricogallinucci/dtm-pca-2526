{
 "cells": [
  {
   "cell_type": "markdown",
   "id": "1ce8d48f-24ef-4db1-8dbf-406d0dd72d15",
   "metadata": {
    "deletable": true,
    "editable": true
   },
   "source": [
    "# Lab 4: Functions and methods\n",
    "\n",
    "Welcome to the fourth lab of the course. With this lab, we start writing functions."
   ]
  },
  {
   "cell_type": "markdown",
   "id": "f9e0a490",
   "metadata": {},
   "source": [
    "## Exercise 1: Warm-up\n",
    "\n",
    "Implement the following functions:\n",
    "- a function 'pow' that takes in input a number x and returns x**2\n",
    "- a function 'fahrenheit' that takes in input a number of °C degrees and returns the corresponding value in °F\n",
    "- a function 'rectangleArea' that takes in input two numbers (length and breadth) returns the calculation of the area of the rectangle\n",
    "- a function 'oddOrEven' that takes a number in input and returns \"odd\" or \"even\" if a number is odd or even    "
   ]
  },
  {
   "cell_type": "markdown",
   "id": "0214afbf-69dd-43de-b55f-86fdd0e4825d",
   "metadata": {
    "editable": true,
    "tags": []
   },
   "source": [
    "## Exercise 2: Back to Fibonacci\n",
    "\n",
    "Break down the Fibonacci exercise by subdividing it into multiple functions:\n",
    "- a function 'getNewNumber' that takes in input two numbers and return the new one\n",
    "  - for instance, getNewNumber(1,2) should return 3\n",
    "- a function 'addNewNumber' that takes in input the sequence already generated and the newset numbers, and returns a new sequence appending the newest number to the end\n",
    "  - for instance, 'addNewNumber(\"0, 1, 1, 2\",3) should return \"0, 1, 1, 2, 3\"\n",
    "- a function 'generateFibonacci' that takes in input a number an generates the Fibonacci sequence up until such number\n",
    "  - for instance, 'generateFibonacci(15)' should return \"0, 1, 1, 2, 3, 5, 8, 13\""
   ]
  },
  {
   "cell_type": "markdown",
   "id": "47f5b8f5",
   "metadata": {},
   "source": [
    "## Exercise 3: Caesar\n",
    "\n",
    "- Define a function 'validCharacter' that takes in input a character 'ch' and returns True only if the character is an uppercase letter, i.e., its value is between 65 and 90.\n",
    "- Define a function 'caesar' that takes in input a character 'ch' and a number 'k' and shifts the character 'ch' by '+k' positions. The function returns False if the charcter 'ch' is not a validCharacter. Also, differently from what we did before, we want the new character to be another uppercase letter: if the new number is >90 (or <65), then you should decrease (or increase) it by 26 until the result falls in the correct range."
   ]
  }
 ],
 "metadata": {
  "kernelspec": {
   "display_name": "Python 3 (ipykernel)",
   "language": "python",
   "name": "python3"
  },
  "language_info": {
   "codemirror_mode": {
    "name": "ipython",
    "version": 3
   },
   "file_extension": ".py",
   "mimetype": "text/x-python",
   "name": "python",
   "nbconvert_exporter": "python",
   "pygments_lexer": "ipython3",
   "version": "3.10.9"
  },
  "toc-autonumbering": false,
  "toc-showcode": true,
  "toc-showmarkdowntxt": true,
  "toc-showtags": true
 },
 "nbformat": 4,
 "nbformat_minor": 5
}
