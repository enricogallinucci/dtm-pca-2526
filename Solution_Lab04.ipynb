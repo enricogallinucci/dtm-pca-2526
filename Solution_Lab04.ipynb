{
 "cells": [
  {
   "cell_type": "markdown",
   "id": "1ce8d48f-24ef-4db1-8dbf-406d0dd72d15",
   "metadata": {
    "deletable": true,
    "editable": true
   },
   "source": [
    "# Lab 4: Functions and methods\n",
    "\n",
    "Welcome to the fourth lab of the course. With this lab, we start writing functions."
   ]
  },
  {
   "cell_type": "markdown",
   "id": "f9e0a490",
   "metadata": {},
   "source": [
    "## Exercise 1: Warm-up\n",
    "\n",
    "Implement the following functions:\n",
    "- a function 'pow' that takes in input a number x and returns x**2\n",
    "- a function 'fahrenheit' that takes in input a number of °C degrees and returns the corresponding value in °F\n",
    "- a function 'rectangleArea' that takes in input two numbers (length and breadth) returns the calculation of the area of the rectangle\n",
    "- a function 'oddOrEven' that takes a number in input and returns \"odd\" or \"even\" if a number is odd or even    "
   ]
  },
  {
   "cell_type": "code",
   "execution_count": null,
   "id": "e6ce28fd",
   "metadata": {},
   "outputs": [],
   "source": [
    "def pow(x):\n",
    "    return x**2"
   ]
  },
  {
   "cell_type": "code",
   "execution_count": null,
   "id": "4d3eb687",
   "metadata": {},
   "outputs": [],
   "source": [
    "def fahrenheit(celsius):\n",
    "    return (celsius*9/5)+32"
   ]
  },
  {
   "cell_type": "code",
   "execution_count": null,
   "id": "031befbf",
   "metadata": {},
   "outputs": [],
   "source": [
    "def rectangleArea(length,breadth):\n",
    "    return length*breadth"
   ]
  },
  {
   "cell_type": "code",
   "execution_count": null,
   "id": "49ac9989-0889-4552-a09b-45e2d9be45c7",
   "metadata": {
    "editable": true,
    "tags": [
     "exercise"
    ]
   },
   "outputs": [],
   "source": [
    "def oddOrEven(num):\n",
    "    if(num%2==1):\n",
    "        return \"even\"\n",
    "    else:\n",
    "        return \"odd\""
   ]
  },
  {
   "cell_type": "markdown",
   "id": "0214afbf-69dd-43de-b55f-86fdd0e4825d",
   "metadata": {
    "editable": true,
    "tags": []
   },
   "source": [
    "## Exercise 2: Back to Fibonacci\n",
    "\n",
    "Break down the Fibonacci exercise by subdividing it into multiple functions:\n",
    "- a function 'getNewNumber' that takes in input two numbers and return the new one\n",
    "  - for instance, getNewNumber(1,2) should return 3\n",
    "- a function 'addNewNumber' that takes in input the sequence already generated and the newset numbers, and returns a new sequence appending the newest number to the end\n",
    "  - for instance, 'addNewNumber(\"0, 1, 1, 2\",3) should return \"0, 1, 1, 2, 3\"\n",
    "- a function 'generateFibonacci' that takes in input a number an generates the Fibonacci sequence up until such number\n",
    "  - for instance, 'generateFibonacci(15)' should return \"0, 1, 1, 2, 3, 5, 8, 13\""
   ]
  },
  {
   "cell_type": "code",
   "execution_count": 4,
   "id": "0f2c035e",
   "metadata": {},
   "outputs": [
    {
     "data": {
      "text/plain": [
       "3"
      ]
     },
     "execution_count": 4,
     "metadata": {},
     "output_type": "execute_result"
    }
   ],
   "source": [
    "def getNewNumber(n1,n2):\n",
    "    return n1+n2\n",
    "\n",
    "getNewNumber(1,2)"
   ]
  },
  {
   "cell_type": "code",
   "execution_count": 3,
   "id": "c5fd9477",
   "metadata": {},
   "outputs": [
    {
     "data": {
      "text/plain": [
       "'0, 1, 1, 2, 3'"
      ]
     },
     "execution_count": 3,
     "metadata": {},
     "output_type": "execute_result"
    }
   ],
   "source": [
    "def addNewNumber(seq, n):\n",
    "    return seq + \", \" + str(n)\n",
    "\n",
    "addNewNumber(\"0, 1, 1, 2\",3)"
   ]
  },
  {
   "cell_type": "code",
   "execution_count": 7,
   "id": "14702ee6",
   "metadata": {},
   "outputs": [
    {
     "data": {
      "text/plain": [
       "'0, 1, 1, 2, 3, 5, 8, 13'"
      ]
     },
     "execution_count": 7,
     "metadata": {},
     "output_type": "execute_result"
    }
   ],
   "source": [
    "def generateFibonacci(max):\n",
    "    prev = 0\n",
    "    n = 1\n",
    "    output = str(prev)\n",
    "\n",
    "    while(n<max):\n",
    "        output = addNewNumber(output, n)\n",
    "        newn = getNewNumber(n,prev)\n",
    "        prev = n\n",
    "        n = newn\n",
    "    \n",
    "    return output\n",
    "\n",
    "generateFibonacci(15)"
   ]
  },
  {
   "cell_type": "markdown",
   "id": "039b8a4b",
   "metadata": {},
   "source": [
    "## Exercise 3: Caesar\n",
    "\n",
    "- Define a function 'validCharacter' that takes in input a character 'ch' and returns True only if the character is an uppercase letter, i.e., its value is between 65 and 90.\n",
    "- Define a function 'caesar' that takes in input a character 'ch' and a number 'k' and shifts the character 'ch' by '+k' positions. The function returns False if the charcter 'ch' is not a validCharacter. Also, differently from what we did before, we want the new character to be another uppercase letter: if the new number is >90 (or <65), then you should decrease (or increase) it by 26 until the result falls in the correct range."
   ]
  },
  {
   "cell_type": "code",
   "execution_count": 21,
   "id": "8746fe0f",
   "metadata": {},
   "outputs": [
    {
     "data": {
      "text/plain": [
       "True"
      ]
     },
     "execution_count": 21,
     "metadata": {},
     "output_type": "execute_result"
    }
   ],
   "source": [
    "def validCharacter(ch):\n",
    "    return 65 <= ord(ch) <= 90\n",
    "\n",
    "validCharacter('A')"
   ]
  },
  {
   "cell_type": "code",
   "execution_count": 24,
   "id": "c14c97bb",
   "metadata": {},
   "outputs": [],
   "source": [
    "def caesar(ch,k):\n",
    "\n",
    "    newCh = ord(ch) + k\n",
    "    while not validCharacter(chr(newCh)):\n",
    "        if newCh<65:\n",
    "            newCh += 26\n",
    "        else:\n",
    "            newCh -= 26\n",
    "\n",
    "    return chr(newCh)"
   ]
  },
  {
   "cell_type": "code",
   "execution_count": 29,
   "id": "2b85937f",
   "metadata": {},
   "outputs": [
    {
     "data": {
      "text/plain": [
       "'Z'"
      ]
     },
     "execution_count": 29,
     "metadata": {},
     "output_type": "execute_result"
    }
   ],
   "source": [
    "caesar('A',-27)"
   ]
  }
 ],
 "metadata": {
  "kernelspec": {
   "display_name": "Python 3 (ipykernel)",
   "language": "python",
   "name": "python3"
  },
  "language_info": {
   "codemirror_mode": {
    "name": "ipython",
    "version": 3
   },
   "file_extension": ".py",
   "mimetype": "text/x-python",
   "name": "python",
   "nbconvert_exporter": "python",
   "pygments_lexer": "ipython3",
   "version": "3.12.4"
  },
  "toc-autonumbering": false,
  "toc-showcode": true,
  "toc-showmarkdowntxt": true,
  "toc-showtags": true
 },
 "nbformat": 4,
 "nbformat_minor": 5
}
