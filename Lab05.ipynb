{
 "cells": [
  {
   "cell_type": "markdown",
   "id": "1ce8d48f-24ef-4db1-8dbf-406d0dd72d15",
   "metadata": {
    "deletable": true,
    "editable": true
   },
   "source": [
    "# Lab 5: Functions\n",
    "\n",
    "Welcome to the fifth lab of the course. With this lab, we do some more exercises on writing functions."
   ]
  },
  {
   "cell_type": "markdown",
   "id": "0214afbf-69dd-43de-b55f-86fdd0e4825d",
   "metadata": {
    "editable": true,
    "tags": []
   },
   "source": [
    "## Exercise 1: Greetings\n",
    "Create a function called `greet` that takes one parameter, `name`, and another parameter `greeting` with a default value of `\"Hello\"`. The function should print a message in the format: `\"{greeting}, {name}!\"`"
   ]
  },
  {
   "cell_type": "code",
   "execution_count": null,
   "id": "cb38bc14",
   "metadata": {},
   "outputs": [],
   "source": [
    "# Example usage\n",
    "greet(\"Alice\")  # Output: \"Hello, Alice!\"\n",
    "greet(\"Bob\", \"Hi\")  # Output: \"Hi, Bob!\""
   ]
  },
  {
   "cell_type": "markdown",
   "id": "43d71af0",
   "metadata": {},
   "source": [
    "## Exercise 2: Just a sum\n",
    "Define a function called `sum_numbers` that takes any number of numerical arguments and returns their sum. If no numbers are provided, it should return 0."
   ]
  },
  {
   "cell_type": "code",
   "execution_count": null,
   "id": "d910ba38",
   "metadata": {},
   "outputs": [],
   "source": [
    "# Example usage\n",
    "print(sum_numbers(1, 2, 3, 4))  # Output: 10\n",
    "print(sum_numbers())  # Output: 0"
   ]
  },
  {
   "cell_type": "markdown",
   "id": "c676d548",
   "metadata": {},
   "source": [
    "## Exercise 3: Prefix sum\n",
    "\n",
    "Define a function called `prefix_sum` that takes any number of numerical arguments and prints the incremental sum of these number. If no numbers are provided, it shouldn't print anything."
   ]
  },
  {
   "cell_type": "code",
   "execution_count": null,
   "id": "27394017",
   "metadata": {},
   "outputs": [],
   "source": [
    "# Example usage\n",
    "print(prefix_sum(1, 2, 3, 4))  # Output: 1, 3, 6, 10"
   ]
  },
  {
   "cell_type": "markdown",
   "id": "e830c17d",
   "metadata": {},
   "source": [
    "## Exercise 4: Introductions\n",
    "\n",
    "Create a function called `introduce` that takes:\n",
    "- `name` (a required parameter),\n",
    "- `age` (an optional parameter, defaulting to `\"at least 18\"`),\n",
    "- `hobby` (an optional parameter, defaulting to `\"nothing\"`).\n",
    "\n",
    "The function should print a sentence in the format: `\"My name is {name}. I am {age} years old and I enjoy {hobby}.\"`"
   ]
  },
  {
   "cell_type": "code",
   "execution_count": null,
   "id": "7bd1ce07",
   "metadata": {},
   "outputs": [],
   "source": [
    "# Example usage\n",
    "introduce(\"Alice\")  # Output: \"My name is Alice. I am at least 18 years old and I enjoy nothing.\"\n",
    "introduce(\"Bob\", 25, \"painting\")  # Output: \"My name is Bob. I am 25 years old and I enjoy painting.\""
   ]
  },
  {
   "cell_type": "markdown",
   "id": "58397f7b",
   "metadata": {},
   "source": [
    "## Exercise 5: Price\n",
    "\n",
    "Write a function called `calculate_discount` that takes:\n",
    "- `price` (a required parameter),\n",
    "- `discount_percentage` (a default parameter of 10%),\n",
    "- `tax_percentage` (a default parameter of 5%).\n",
    "\n",
    "The function should calculate and return the final price after applying the discount and adding tax.\n",
    "\n",
    "**Hint:** Final Price = `price - (price * discount_percentage / 100) + (price * tax_percentage / 100)`"
   ]
  },
  {
   "cell_type": "code",
   "execution_count": null,
   "id": "2b13b75d",
   "metadata": {},
   "outputs": [],
   "source": [
    "# Example usage\n",
    "print(calculate_discount(100))  # Output: 95.0\n",
    "print(calculate_discount(200, 20, 8))  # Output: 176.0"
   ]
  },
  {
   "cell_type": "markdown",
   "id": "abc61f5a",
   "metadata": {},
   "source": [
    "## Exercise 6: Pizza\n",
    "\n",
    "Write a function called `order_pizza` that takes the following parameters:\n",
    "- `tomato` (default value `True`)\n",
    "- `type` (default value `\"normal\"`; other accepted values: `\"normal\",\"metro\",\"tegamino\"`)\n",
    "- `wheat` (default value `\"normal\"`; other accepted values: `\"kamut\",\"whole\",\"hemp\"`)\n",
    "- any number of toppings as separate arguments using `*toppings`. \n",
    "\n",
    "The function should print the order in the format: `\"You ordered a {type} pizza {withouttomato} with {wheat} wheat and {toppingslist}.\"` where\n",
    "- `withtomato` is a string indicating \"without tomato\" if `tomato` is `False` (otherwise it's empty)\n",
    "- `toppingslist` is a comma-separated list of the toppings; if no toppings are given, it should say \"no toppings\""
   ]
  },
  {
   "cell_type": "code",
   "execution_count": null,
   "id": "604600a1",
   "metadata": {},
   "outputs": [],
   "source": [
    "# Example usage\n",
    "order_pizza()  # Output: \"You ordered a normal pizza with normal wheat and no toppings.\"\n",
    "order_pizza(False, \"tegamino\", \"whole\", \"pepperoni\", \"mushrooms\", \"olives\")  # Output: \"You ordered a tegamino pizza without tomato with whole wheat and with pepperoni, mushrooms, olives toppings.\""
   ]
  }
 ],
 "metadata": {
  "kernelspec": {
   "display_name": "Python 3",
   "language": "python",
   "name": "python3"
  },
  "language_info": {
   "codemirror_mode": {
    "name": "ipython",
    "version": 3
   },
   "file_extension": ".py",
   "mimetype": "text/x-python",
   "name": "python",
   "nbconvert_exporter": "python",
   "pygments_lexer": "ipython3",
   "version": "3.12.4"
  },
  "toc-autonumbering": false,
  "toc-showcode": true,
  "toc-showmarkdowntxt": true,
  "toc-showtags": true
 },
 "nbformat": 4,
 "nbformat_minor": 5
}
