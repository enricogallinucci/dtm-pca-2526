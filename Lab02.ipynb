{
 "cells": [
  {
   "cell_type": "markdown",
   "id": "1ce8d48f-24ef-4db1-8dbf-406d0dd72d15",
   "metadata": {
    "deletable": true,
    "editable": true
   },
   "source": [
    "# Lab 2: Variable types and Branching\n",
    "\n",
    "Welcome to the second lab of the course. This lab covers:\n",
    "- Variable types\n",
    "- Using strings, printing to the screen, receiving input from the keyboard\n",
    "- Comparison operations and flow control with if/elif/else"
   ]
  },
  {
   "cell_type": "markdown",
   "id": "5cf28166",
   "metadata": {},
   "source": [
    "## Exercise 1: Variable types\n",
    "\n",
    "In the next cell, write a Python program that creates the following variables:\n",
    "- 'pi' is the conversion of str_pi to float\n",
    "- 'n6' is the conversion of pi to integer;\n",
    "- 'n7' is the conversion of pi+0.5 to integer;\n",
    "- 'n8' adds 0.5 to the conversion of pi to integer;\n",
    "- 'n9' is the type of 'n8';\n",
    "- 'n10' converts to string the sum of n6 and n7\n",
    "- 'n11' creates a string with the values of n6 and n7 separated by a '+'"
   ]
  },
  {
   "cell_type": "code",
   "execution_count": null,
   "id": "1e1868ea",
   "metadata": {},
   "outputs": [],
   "source": [
    "str_pi = \"3.14159\"\n",
    "\n",
    "# Write the Python program here\n",
    "...\n",
    "\n",
    "# Uncomment to print results (expected results are commented)\n",
    "print(pi) # 3.14159\n",
    "print(n6) # 3\n",
    "print(n7) # 3\n",
    "print(n8) # 3.5\n",
    "print(n9) # <class 'float'>\n",
    "print(n10) # 6\n",
    "print(n11) # 3+3"
   ]
  },
  {
   "cell_type": "code",
   "execution_count": null,
   "id": "dd230a29",
   "metadata": {},
   "outputs": [],
   "source": [
    "pi = 3.14159\n",
    "radius = 42\n",
    "circumference = 2 * pi * radius       # Computes the circumference\n",
    "\n",
    "## Start checking errors from here\n",
    "\n",
    "int_circumference = int[circumference]  # Converts the circumference to an integer number\n",
    "\n",
    "type_of_circumference = Type(circumference) # Stores the type of variable \"circumference\"\n",
    "\n",
    "type_of_int_circumference = type[int_circumference] # Stores the type of variable \"circumference\"\n",
    "\n",
    "print(\"Circumference (truncated to integer)\", int_circumference)\n",
    "print(\"Variable types:\", type_of_circumference, type_of_int_circumference)"
   ]
  },
  {
   "cell_type": "markdown",
   "id": "e734e5bf-5653-4320-bf81-0cca87fadf22",
   "metadata": {
    "deletable": true,
    "editable": true,
    "tags": []
   },
   "source": [
    "## Exercise 2: My Profile\n",
    "\n",
    "In the next cell, write a Python program that does the following:\n",
    "- create variables 'fname' and 'lname' with your first and last names, respectively\n",
    "- create variable 'email' that concatenates your first name, a dot, your last name, and \"@studio.unibo.it\"\n",
    "- create variable 'yearborn' and use the ```input()``` command to populate it with the year you were born (4-digits)\n",
    "- print an f-string that states something like \"I'm Alice Smith, I'm 25 years old, and my email is something like Alice.Smith@studio.unibo.it\"\n",
    "  - _Use the ```yeartoday``` variable to calculate the age_\n",
    "  - _Remember to cast the input to integer in order to make the calculation_"
   ]
  },
  {
   "cell_type": "code",
   "execution_count": null,
   "id": "8866c495-8b24-42e3-88cd-4fe18b89a210",
   "metadata": {
    "deletable": true,
    "editable": true,
    "tags": [
     "exercise"
    ]
   },
   "outputs": [],
   "source": [
    "from datetime import datetime\n",
    "yeartoday = datetime.today().year\n",
    "\n",
    "# Write your Python program here\n",
    "..."
   ]
  },
  {
   "cell_type": "markdown",
   "id": "a3876e98-02bb-4c0a-a9fd-b8d9c0c07e9c",
   "metadata": {
    "editable": true,
    "tags": []
   },
   "source": [
    "## Exercise 3: Branching\n",
    "\n",
    "Create a variable 'n' populated with an input prompt, asking the user to put his/her age, and convert it to integer; then, implement the following conditional statements.\n",
    "- If the number is below 1, print an error message stating that the number should be >0; otherwise, continue with the next control.\n",
    "- If the number is lower than 10 or greater than 99, then print an error message stating that the user is not trustworthy; otherwise, continue with the next control.\n",
    "- If the number is between 40 and 60, print a message stating \"Boomer alert!\".\n",
    "- Independently of the above check, print whether the number is odd or even.\n",
    "\n",
    "Use the least number of statements as possible."
   ]
  },
  {
   "cell_type": "code",
   "execution_count": null,
   "id": "8edc545d",
   "metadata": {},
   "outputs": [],
   "source": [
    "# Write your Python program here\n",
    "...\n",
    "\n",
    "# input: -2     output: \"number should be >0\"\n",
    "# input: 200    output: \"not trustworthy\"\n",
    "# input: 5      output: \"not trustworthy\"\n",
    "# input: 20     output: \"number is even\"\n",
    "# input: 21     output: \"number is odd\"\n",
    "# input: 40     output: \"boomer alert\", \"number is even\"\n",
    "# input: 41     output: \"boomer alert\", \"number is odd\"\n",
    "# input: 62     output: \"number is even\"\n",
    "# input: 61     output: \"number is odd\""
   ]
  },
  {
   "cell_type": "markdown",
   "id": "7be3a5c1-61f5-4da1-afd6-007b57534d8c",
   "metadata": {
    "editable": true,
    "tags": []
   },
   "source": [
    "## Exercise 4: Magic trick\n",
    "\n",
    "Replicate the following magic trick\n",
    "- Ask someone to pick a whole number (use the ```input()``` command and cast it to int)\n",
    "- Add the next higher number to it.\n",
    "- Add 9 and divide by 2, and then subtract the original number.\n",
    "- Print \"I guess that the result is 5!\" if the result is 5, otherwise print \"Wait, I'm not sure if this magic trick is working well..\"."
   ]
  },
  {
   "cell_type": "code",
   "execution_count": null,
   "id": "7c15dfc0-fb57-40ae-bdfa-2a232d6932ed",
   "metadata": {
    "tags": []
   },
   "outputs": [],
   "source": [
    "# Write your Python program here\n",
    "..."
   ]
  },
  {
   "cell_type": "markdown",
   "id": "aab2c7dc-88bd-41d7-b651-086163668cc5",
   "metadata": {},
   "source": [
    "## Exercise 5: Additional exercises"
   ]
  },
  {
   "cell_type": "code",
   "execution_count": null,
   "id": "8e0d420f-f114-4832-a128-4c26e5fb4582",
   "metadata": {
    "tags": []
   },
   "outputs": [],
   "source": [
    "# Ask someone to enter the length and breadth of a rectangle and print its perimeter and area\n",
    "# Example: length=9, breadth=5, perimeter=28, area=45\n",
    "...\n",
    "print(\"The perimeter is\",p,\"and the area is\",a)"
   ]
  },
  {
   "cell_type": "code",
   "execution_count": null,
   "id": "c19a8da8-2217-4757-8927-e19f925c5df6",
   "metadata": {
    "tags": []
   },
   "outputs": [],
   "source": [
    "# Ask someone to enter the radius of a circle and print its diameter and area\n",
    "# Example: radius=8, diameter=16, area=200.96\n",
    "...\n",
    "print(\"The diameter is\",d,\"and the area is\",a)"
   ]
  },
  {
   "cell_type": "code",
   "execution_count": null,
   "id": "4ea3fadc-1ddb-4289-be46-b1d72531fa86",
   "metadata": {
    "tags": []
   },
   "outputs": [],
   "source": [
    "# Ask someone to enter a temperature in Celsius degrees and convert it to Fahrenheit (multiply by 9/5, then add 32)\n",
    "# Example: celsius=0, fahrenheit=32; celsius=18, fahrenheit=64.4\n",
    "...\n",
    "print(\"The temperature in Fahrenheit is\",f,\"°F\")"
   ]
  },
  {
   "cell_type": "code",
   "execution_count": null,
   "id": "eee6d5a0-7f2b-403f-8a8c-57df1203e511",
   "metadata": {
    "tags": []
   },
   "outputs": [],
   "source": [
    "# Ask someone to enter the base and height of triangle and print its area\n",
    "# Example: base=7, height=11; area=38.5\n",
    "...\n",
    "print(\"The area is\",a)"
   ]
  },
  {
   "cell_type": "code",
   "execution_count": null,
   "id": "84711d65-66c2-4990-9355-2f0fe5682e1b",
   "metadata": {
    "tags": []
   },
   "outputs": [],
   "source": [
    "# Ask someone to enter 3 grades from 18-30, compute their average and convert it to a scale of 110\n",
    "# Example: g1=25, g2=29, g3=30, avg=28, avg110=102.67\n",
    "...\n",
    "print(\"The average is\",avg,\"/30 or\",avg110,\"/110\")"
   ]
  },
  {
   "cell_type": "code",
   "execution_count": null,
   "id": "b65bf515-d928-4a1a-801f-9cd4dee23c0a",
   "metadata": {
    "tags": []
   },
   "outputs": [],
   "source": [
    "# Ask someone to enter two numbers and print which is the maximum without using Python's 'max' function\n",
    "..."
   ]
  },
  {
   "cell_type": "code",
   "execution_count": null,
   "id": "6d6d1132-37a4-4ed7-bea6-55c7a80531d6",
   "metadata": {
    "tags": []
   },
   "outputs": [],
   "source": [
    "# Ask someone to enter a number from 1 to 7 and print the corresponding weekday from Monday to Sunday\n",
    "..."
   ]
  },
  {
   "cell_type": "code",
   "execution_count": null,
   "id": "9fccb493-5b8b-491e-8003-035fa21b29f1",
   "metadata": {
    "tags": []
   },
   "outputs": [],
   "source": [
    "# Ask someone to enter a non-negative number corresponding to their gross income and print the amount of taxes that they have to pay, knowing that\n",
    "# - If the income is <=10000, they have to pay 10%\n",
    "# - If the income is <=20000, they have to pay 10% for the first 10000 and 20% for the remaining part\n",
    "# - Otherwise, they have to pay 10% for the first 10000, 20% for the second 10000, and 30% for the remaining part\n",
    "# Example: income=8000, taxes=800; income=18000, taxes=2600; income=38000, taxes=8400; income=48000, taxes=11400; income=-100, taxes=0\n",
    "...\n",
    "print(\"The taxes to be paid are\",taxes)"
   ]
  }
 ],
 "metadata": {
  "kernelspec": {
   "display_name": "Python 3 (ipykernel)",
   "language": "python",
   "name": "python3"
  },
  "language_info": {
   "codemirror_mode": {
    "name": "ipython",
    "version": 3
   },
   "file_extension": ".py",
   "mimetype": "text/x-python",
   "name": "python",
   "nbconvert_exporter": "python",
   "pygments_lexer": "ipython3",
   "version": "3.12.4"
  },
  "toc-autonumbering": false,
  "toc-showcode": true,
  "toc-showmarkdowntxt": true,
  "toc-showtags": false
 },
 "nbformat": 4,
 "nbformat_minor": 5
}
