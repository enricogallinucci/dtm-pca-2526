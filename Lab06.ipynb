{
 "cells": [
  {
   "cell_type": "markdown",
   "metadata": {},
   "source": [
    "# Lab 6: First wrap-up\n",
    "\n",
    "Welcome to the sixth lab of the course, where we will do further exercises based on what we know so far."
   ]
  },
  {
   "cell_type": "markdown",
   "metadata": {},
   "source": [
    "## Exercise 1: String replacing\n",
    "\n",
    "Create a function called `modify_string` that takes a string `text` and two more strings `word_to_find` and `word_to_replace`. The function should:\n",
    "1. Convert the entire `text` to lowercase.\n",
    "2. Find the index of `word_to_find` in the `text`.\n",
    "3. Replace all occurrences of `word_to_find` with `word_to_replace` and return the modified string along with the index."
   ]
  },
  {
   "cell_type": "code",
   "execution_count": null,
   "metadata": {},
   "outputs": [],
   "source": [
    "# Example usage\n",
    "result, index = modify_string(\"Hello World! The world is beautiful.\", \"world\", \"earth\")\n",
    "print(result)  # Output: \"hello earth! the earth is beautiful.\"\n",
    "print(index)  # Output: 6"
   ]
  },
  {
   "cell_type": "markdown",
   "metadata": {},
   "source": [
    "## Exercise 2: My final grade\n",
    "\n",
    "Write a function called `mygrade` that computes the grade that you will get at the end of this Master's degree. It should take the following parameters:\n",
    "- base: the scale to which you want to convert the grade (usually 110)\n",
    "- inTime: a boolean that specifies whether you graduated in time or not; consider that this gives you 1 extra point on average scaled to 110\n",
    "- thesisGrade: a number from 0 to 6 that must be added at the end (this is how much your thesis will be evaluated)\n",
    "- grades: a sequence (of unknown length) of grades, which must be either numbers between 18 and 30 or a string written like \"30L\"\n",
    "\n",
    "Assume that all courses weight the same amount of CFUs. Also, consider that any 30L grants you +0.33 on the average scaled to 110.\n",
    "\n",
    "The formula would be: `finalGrade = ( average(grades)/30*base ) + (0.33 * number of laudes) + (1 if inTime) + thesisGrade`"
   ]
  },
  {
   "cell_type": "code",
   "execution_count": null,
   "metadata": {},
   "outputs": [],
   "source": [
    "# Example usage:\n",
    "print(mygrade(110, True, 4, 30, 28, \"30L\", 29, 30))"
   ]
  },
  {
   "cell_type": "markdown",
   "metadata": {},
   "source": [
    "## Exercise 3: Running distance\n",
    "\n",
    "Create a function `running_distance` that computes the distance covered by a runner who runs for a given duration at a given speed.\n",
    "\n",
    "In input, the function takes:\n",
    "- duration: the number of minutes run; it must be greater than 0\n",
    "- pace_min_per_km: the speed, expressed as the number of minutes taken to cover 1km; it must be greater than 0\n",
    "- pace_sec_per_km (optional): the number of seconds (to be added to pace_min_per_km); if given, it must be between 0 and 59 (defaults to 0)\n",
    "\n",
    "If the input is valid, the function prints something like: \"If you run at 4:30 min/km (i.e., 13.33 km/h) for 240 minutes, you will cover 53.33 kilometers.\"; otherwise, an error must be returned.\n",
    "\n",
    "- The formula to calculate the distance in km is \"duration in seconds\" / \"total number of seconds per km\".\n",
    "- The formula to calculate the speed in km/h is 3600 / \"total number of seconds per km\".\n",
    "- Use the `round()` formula to round results to 2 decimals."
   ]
  },
  {
   "cell_type": "code",
   "execution_count": null,
   "metadata": {},
   "outputs": [],
   "source": [
    "running_distance(240, 4, 30)"
   ]
  },
  {
   "cell_type": "markdown",
   "metadata": {},
   "source": [
    "## Exercise 4: Running time\n",
    "\n",
    "Create a function `running_time` that computes the pace you must have to complete a given distance in a given time.\n",
    "\n",
    "In input, the function takes:\n",
    "- distance: the expected distance in km; it must be greater than 0\n",
    "- time: the expected time in minutes; it must be greater than 0\n",
    "\n",
    "If the input is valid, the function prints something like: \"If you want to run 42.195 km in 180 minutes, you should run at 14.06 km/h (with a pace of 4:15 min/km).\"; otherwise, an error must be returned.\n",
    "\n",
    "- The formula to calculate the speed in km/h is \"distance in km\" / \"duration in hours\".\n",
    "- The formula to calculate the pace in min/km is \"duration in seconds\" / \"distance in km\". This gives you the result in sec/km; how to convert it to min/km?\n",
    "- Use the `round()` formula to round results to 2 decimals."
   ]
  },
  {
   "cell_type": "code",
   "execution_count": null,
   "metadata": {},
   "outputs": [],
   "source": [
    "running_time(42.195, 180)"
   ]
  },
  {
   "cell_type": "markdown",
   "metadata": {},
   "source": [
    "## Exercise 5: Running updates\n",
    "\n",
    "Create a function that prints updates on the status of a race of a runner.\n",
    "\n",
    "In input, the function takes:\n",
    "- the speed of the runner in km/h\n",
    "- the length of the race in km\n",
    "- the frequency of updates in km\n",
    "\n",
    "Depending on the frequency, the function must print updates on the distance covered by the runner."
   ]
  },
  {
   "cell_type": "code",
   "execution_count": null,
   "metadata": {},
   "outputs": [],
   "source": [
    "# Example usage:\n",
    "race_updates(10,42,5)\n",
    "\n",
    "# Expect output:\n",
    "# It took 30 min 0 sec for the runner to cover 5 km\n",
    "# It took 60 min 0 sec for the runner to cover 10 km\n",
    "# It took 90 min 0 sec for the runner to cover 15 km\n",
    "# It took 120 min 0 sec for the runner to cover 20 km\n",
    "# It took 150 min 0 sec for the runner to cover 25 km\n",
    "# It took 180 min 0 sec for the runner to cover 30 km\n",
    "# It took 210 min 0 sec for the runner to cover 35 km\n",
    "# It took 240 min 0 sec for the runner to cover 40 km\n",
    "# Final time to complete 42 km: 252 min 0 sec"
   ]
  },
  {
   "cell_type": "markdown",
   "metadata": {},
   "source": [
    "## (Extra) Exercise 6: Running updates extended\n",
    "\n",
    "Extend exercise 5 with an additional input parameter, `unit`, which indicates whether the specified input `frequency` is given in km or minutes. Then, updates must change accordingly. Also, consider printing the total time to complete the race."
   ]
  },
  {
   "cell_type": "code",
   "execution_count": null,
   "metadata": {},
   "outputs": [],
   "source": [
    "# Example usage:\n",
    "race_updates2(10,42,5,'km')\n",
    "\n",
    "# Expect output:\n",
    "# It took 30 min 0 sec for the runner to cover 5 km\n",
    "# It took 60 min 0 sec for the runner to cover 10 km\n",
    "# It took 90 min 0 sec for the runner to cover 15 km\n",
    "# It took 120 min 0 sec for the runner to cover 20 km\n",
    "# It took 150 min 0 sec for the runner to cover 25 km\n",
    "# It took 180 min 0 sec for the runner to cover 30 km\n",
    "# It took 210 min 0 sec for the runner to cover 35 km\n",
    "# It took 240 min 0 sec for the runner to cover 40 km\n",
    "# Final time to complete 42 km: 252 min 0 sec"
   ]
  },
  {
   "cell_type": "code",
   "execution_count": null,
   "metadata": {},
   "outputs": [],
   "source": [
    "# Example usage:\n",
    "race_updates2(12,7,4,'minutes')\n",
    "\n",
    "# Expected output:\n",
    "# After 4 min 0 sec, the runner has covered 0.8 km\n",
    "# After 8 min 0 sec, the runner has covered 1.6 km\n",
    "# After 12 min 0 sec, the runner has covered 2.4 km\n",
    "# After 16 min 0 sec, the runner has covered 3.2 km\n",
    "# After 20 min 0 sec, the runner has covered 4.0 km\n",
    "# After 23 min 59 sec, the runner has covered 4.8 km\n",
    "# After 27 min 59 sec, the runner has covered 5.6 km\n",
    "# After 32 min 0 sec, the runner has covered 6.4 km\n",
    "# Final time to complete 7 km: 35 min 0 sec"
   ]
  }
 ],
 "metadata": {
  "kernelspec": {
   "display_name": "Python 3",
   "language": "python",
   "name": "python3"
  },
  "language_info": {
   "codemirror_mode": {
    "name": "ipython",
    "version": 3
   },
   "file_extension": ".py",
   "mimetype": "text/x-python",
   "name": "python",
   "nbconvert_exporter": "python",
   "pygments_lexer": "ipython3",
   "version": "3.11.9"
  }
 },
 "nbformat": 4,
 "nbformat_minor": 2
}
