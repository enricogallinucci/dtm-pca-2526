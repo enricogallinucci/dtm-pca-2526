{
 "cells": [
  {
   "cell_type": "markdown",
   "id": "1ce8d48f-24ef-4db1-8dbf-406d0dd72d15",
   "metadata": {
    "deletable": false,
    "editable": true
   },
   "source": [
    "# Lab 1: First steps"
   ]
  },
  {
   "cell_type": "markdown",
   "id": "c5ae5e09-92b7-43eb-9b11-86513ce39423",
   "metadata": {
    "deletable": false,
    "editable": true,
    "tags": []
   },
   "source": [
    "Welcome to the first lab of the course. This lab covers:\n",
    "\n",
    "- running the Python interpreter from the command line;\n",
    "- executing a simple Python program with the Python interpreter;\n",
    "- basic usage of a notebook environment;\n",
    "- editing and running a simple Python program in a notebook environment;\n",
    "- debugging of wrong Python commands."
   ]
  },
  {
   "cell_type": "markdown",
   "id": "e734e5bf-5653-4320-bf81-0cca87fadf22",
   "metadata": {
    "deletable": false,
    "editable": true,
    "tags": []
   },
   "source": [
    "## Exercise 1: Python interpreter\n",
    "\n",
    "1. Access the command line interface of your PC.\n",
    "2. Check the version of the python interpreter by running \"python --version\": you should obtain something similar to \"Python 3.12.4\".\n",
    "1. Execute the interpreter by running \"python\" without any parameters: the interpreter should print a welcome message stating its version number and a copyright notice, before printing the first prompt \">>>\".\n",
    "1. Write a Python instruction that prints your name to the screen: press enter to let the interpreter execute it.\n",
    "1. Write the Python expression to compute $(\\frac{10}{3})^2$, press enter so that the interpreter shows the result.\n",
    "1. Use the command \"exit()\" to quit the interpreter."
   ]
  },
  {
   "cell_type": "markdown",
   "id": "c9f26e41-2b3a-43cd-87e4-51381fa698a5",
   "metadata": {
    "deletable": false,
    "editable": true,
    "tags": []
   },
   "source": [
    "## Exercise 2: Creating and executing a Python program\n",
    "\n",
    "Take the beginning of the [Lorem ipsum](https://en.wikipedia.org/wiki/Lorem_ipsum) placeholder text:\n",
    "\n",
    "> Lorem ipsum dolor sit amet,  \n",
    "> consectetur adipisci elit,  \n",
    "> sed do eiusmod tempor incidunt  \n",
    "> ut labore et dolore magna aliqua  \n",
    "\n",
    "1. Create a text file containing the Python instructions <b>to print the <u>four</u> lines</b> Use any text editor (notepad, notepad++, visual studio code, etc.).\n",
    "2. Save the text file as \"lorem.py\".\n",
    "1. Execute it from the command line interface, passing its path as a command-line parameter to the interpreter. For instance, if you are using Windows and saved the file in folder \"c:\\temp\", you may type ```python \"c:\\temp\\lorem.py\"```; alternatively you may change the current folder to that where the file is located (e.g., ```cd \"c:\\temp\"```) and then simply type ```python \"lorem.py\"```."
   ]
  },
  {
   "cell_type": "markdown",
   "id": "60dd90e0-5342-4e6b-92f0-44b6d9a00045",
   "metadata": {
    "deletable": false,
    "editable": true,
    "tags": []
   },
   "source": [
    "## Exercise 3: Using Jupyter in Visual Studio Code\n",
    "\n",
    "In this module, we will work with the Jupyter notebook environment within Visual Studio Code, one of the most famous IDEs (Integrated Development Environment).\n",
    "\n",
    "Notebooks like Jupyter consists of a main work area containing tabs of documents, a collapsible left sidebar, and a menu bar.\n",
    "Jupyter notebooks are documents that combine source code (written in Python or other languages) with descriptive text (written in a Markdown, a simple markup language for formatting text, or directly in HTML), equations (written in LaTeX), images and other rich output.  \n",
    "\n",
    "1. Open Visual Studio Code\n",
    "2. Enable Jupyter by going to View > Extensions, search \"jupyter\" and install it\n",
    "1. Practice with the notebook interface. If you want, you may read some documentation at [https://code.visualstudio.com/docs/datascience/jupyter-notebooks](), or look for other simple tutorials online. After that, you should be able to: \n",
    "    - create a new notebook;\n",
    "    - save a notebook;\n",
    "    - save a notebook with a different name;\n",
    "    - arrange open notebooks in different ways by dragging their tabs with the mouse.\n",
    "1. Practice with notebook cells by following the instructions in the cells below and running them."
   ]
  },
  {
   "cell_type": "code",
   "execution_count": null,
   "id": "96078b9b-cf39-4545-9730-d380a0863d4b",
   "metadata": {
    "deletable": false,
    "editable": true
   },
   "outputs": [],
   "source": [
    "# This is a code cell containing some Python code: \n",
    "# 1. Execute it using the appropiate button in the toolbar, or with the Ctrl+Enter keyboard shortcut\n",
    "# 2. Note the output below the cell.\n",
    "# 3. Find a command to clear the output of the cell, then run the cell again.\n",
    "\n",
    "print(\"Hello: I am Python code executed from a notebook cell.\")"
   ]
  },
  {
   "cell_type": "code",
   "execution_count": null,
   "id": "7c829666-5773-4933-8a44-493a26726728",
   "metadata": {
    "deletable": false,
    "editable": true
   },
   "outputs": [],
   "source": [
    "# Cells in Jupyter notebooks can be of type \"Markdown\" and \"Python\"; the type can be changed by clicking the label in the bottom-right corner.\n",
    "# Try to change the type of this cell and see what happens by executing the cell again.\n",
    "\n",
    "print(\"Message\")"
   ]
  },
  {
   "cell_type": "code",
   "execution_count": null,
   "id": "54614ed5",
   "metadata": {},
   "outputs": [],
   "source": [
    "# In the top-right corner you can find multiple action to carry out on this cell.\n",
    "# Find the way to create a second copy of this cell, then add a second print statement and run that cell.\n",
    "\n",
    "print(\"First message\")\n",
    "..."
   ]
  },
  {
   "cell_type": "code",
   "execution_count": null,
   "id": "d3af3f78",
   "metadata": {},
   "outputs": [],
   "source": [
    "# In the top-right corner you can find multiple action to carry out on this cell.\n",
    "# Find the way to create a second copy of this cell, then add a second print statement and run that cell.\n",
    "\n",
    "print(\"First message\")\n",
    "print(\"Second message\")"
   ]
  },
  {
   "cell_type": "code",
   "execution_count": null,
   "id": "bac3cf10-46c0-4f5b-b7fc-57770bb6b3f3",
   "metadata": {
    "deletable": false,
    "editable": true,
    "tags": []
   },
   "outputs": [],
   "source": [
    "# The output of the last statement in a code cell is always shown, without the need of using print(); checkout the difference between this...\n",
    "print(4 * 2)\n",
    "3 * 11 # Last statement: the result is the output of the cell"
   ]
  },
  {
   "cell_type": "code",
   "execution_count": null,
   "id": "cf97ecf5",
   "metadata": {},
   "outputs": [],
   "source": [
    "# ...this (same as above)...\n",
    "print(4 * 2)\n",
    "print(3 * 11)"
   ]
  },
  {
   "cell_type": "code",
   "execution_count": null,
   "id": "0b306957",
   "metadata": {},
   "outputs": [],
   "source": [
    "# ...this...\n",
    "4 * 2 # If you don't print it, it is not shown\n",
    "3 * 11 "
   ]
  },
  {
   "cell_type": "code",
   "execution_count": 6,
   "id": "eea11315",
   "metadata": {},
   "outputs": [],
   "source": [
    "# ...this..\n",
    "4 * 2\n",
    "x = 3 * 11 # If the last statement is an assignment, nothing is shown"
   ]
  },
  {
   "cell_type": "code",
   "execution_count": null,
   "id": "53b01d3e",
   "metadata": {},
   "outputs": [],
   "source": [
    "# ...and this.\n",
    "4 * 2\n",
    "print(x = 3 * 11) # This is a syntax error, you cannot use print() with an assignment"
   ]
  },
  {
   "cell_type": "code",
   "execution_count": null,
   "id": "091f4aad-db49-48bc-a956-b8f0ee70b5c6",
   "metadata": {
    "deletable": false,
    "editable": true,
    "tags": []
   },
   "outputs": [],
   "source": [
    "# This cell assigns a value to a new variable named 'counter'\n",
    "counter = 0"
   ]
  },
  {
   "cell_type": "code",
   "execution_count": null,
   "id": "78c720c5-3d87-4e07-a890-84596344192f",
   "metadata": {
    "deletable": false,
    "editable": true,
    "tags": []
   },
   "outputs": [],
   "source": [
    "# Once a variable has been defined, it can be used in any cell\n",
    "counter # The output of this cell is the value stored in the variable"
   ]
  },
  {
   "cell_type": "code",
   "execution_count": null,
   "id": "a4a06af4-b97b-4e9c-b247-b0205f6be2dc",
   "metadata": {
    "deletable": false,
    "editable": true,
    "tags": []
   },
   "outputs": [],
   "source": [
    "# Run this cell multiple times\n",
    "counter = counter + 1\n",
    "print('Execution count:', counter)"
   ]
  },
  {
   "cell_type": "markdown",
   "id": "c50017c9-3d08-4db9-8d36-2d8aeb7cd258",
   "metadata": {
    "deletable": false,
    "editable": true
   },
   "source": [
    "Python code from any cell is run in a separate process called 'Kernel'. The Kernel can be interrupted or restarted.\n",
    "- Find and use the command to restart the kernel (note: only \"Restart Kernel\", not \"Restart Kernel and Run ...\"), then try to execute *only* the previous cell, which uses the variable 'counter'. You should see an error (something like \"NameError: name 'counter' is not defined\"), since no variable named 'counter' has been defined, yet. \n",
    "- Running the cells in the proper order will fix this."
   ]
  },
  {
   "cell_type": "markdown",
   "id": "0812f870",
   "metadata": {},
   "source": [
    "## Before we move on: disable the auto-completion!\n",
    "\n",
    "It works very well and you will definetely want to use it in the future, but we are here to learn programming. You won't learn if VS Code just does it for you! (and you will not have this in the exam)\n",
    "\n",
    "To disable:\n",
    "- Go to File > Preferences > Settings\n",
    "- Look for the 'inlineSuggest.enabled' setting\n",
    "- Uncheck it\n",
    "- Close the tab (no need to save)"
   ]
  },
  {
   "cell_type": "markdown",
   "id": "c7e3a351-f499-4ba8-a21a-7b0edc19c505",
   "metadata": {
    "deletable": false,
    "editable": true,
    "exclude_input": true,
    "tags": []
   },
   "source": [
    "## Exercise 4: A simple Python program in Jupyter\n",
    "\n",
    "In the next cell, write a Python program that creates the following variables:\n",
    "- 'n1' is the number $\\frac{7!}{m}$, where $m$ is the number of minutes in a day;\n",
    "- 'n2' is computed as $15^2 + 4^3 - 3^5$;\n",
    "- 'n3' is the minimum between (i) the multiplication between n1 and n2, and (ii) the ratio between n2 and n1;\n",
    "- 'n4' is the number $\\frac{4+3}{5-1}$;\n",
    "- 'n5' is initially created as the absolute value of $-2^3$; then, in another line, 'n5' is incremented by 5 using the += operator.\n",
    "\n",
    "Finally, print a line that says \"My results are:\", followed by all the variables."
   ]
  },
  {
   "cell_type": "code",
   "execution_count": null,
   "id": "ae6865b2-de23-4ebc-8149-13e900386ac8",
   "metadata": {
    "deletable": false,
    "editable": true,
    "tags": [
     "exercise"
    ]
   },
   "outputs": [],
   "source": [
    "# Write the Python program here\n",
    "n1 = 7*6*5*4*3*2*1/(60*24)\n",
    "n2 = 15**2 + 4**3 - 3**5\n",
    "n3 = min(n1*n2,n2/n1)\n",
    "n4 = (4+3)/(5-1)\n",
    "n5 = abs(-2**3)\n",
    "n5 += 5\n",
    "print(\"My results are:\",n1,n2,n3,n4,n5)"
   ]
  },
  {
   "cell_type": "markdown",
   "id": "40885c0c-205f-4c88-82ee-75feac810aa0",
   "metadata": {
    "deletable": false,
    "editable": true,
    "tags": []
   },
   "source": [
    "Run the following cell to check whether the result of the previous program is correct or not."
   ]
  },
  {
   "cell_type": "code",
   "execution_count": null,
   "id": "61b248d3-4df6-4c7f-ae82-e8d1ff836748",
   "metadata": {
    "deletable": false,
    "editable": true,
    "tags": []
   },
   "outputs": [],
   "source": [
    "if n1!=3.5:\n",
    "    print(\"n1 is incorrect\")\n",
    "elif n2!=46:\n",
    "    print(\"n2 is incorrect\")\n",
    "elif n3!=13.142857142857142:\n",
    "    print(\"n3 is incorrect\")\n",
    "elif n4!=1.75:\n",
    "    print(\"n4 is incorrect\")\n",
    "elif n5!=13:\n",
    "    print(\"n5 is incorrect\")\n",
    "else:\n",
    "    print(\"All good!\")"
   ]
  },
  {
   "cell_type": "markdown",
   "id": "260a4990-0c57-4a1b-be28-74ada4bec670",
   "metadata": {
    "deletable": false,
    "editable": true,
    "tags": []
   },
   "source": [
    "## Exercise 5: Debugging\n",
    "\n",
    "The Python program in the cell below contains several errors: correct them!"
   ]
  },
  {
   "cell_type": "code",
   "execution_count": null,
   "id": "17666ecd",
   "metadata": {},
   "outputs": [],
   "source": [
    "pi = 3,14159\n",
    "radius = 42\n",
    "area_of_the_circle = pi * (radius ^ 2) # Computes the area of the circle\n",
    "circumference = 2 ** pi ** r           # Computes the circumference\n",
    "min_value = MIN(area_of_the_circle; circumference) # Computes the minimum of the two values\n",
    "\n",
    "print(\"Area:\", area_of_the_circle)\n",
    "print(\"Circumference:\", circumference)\n",
    "print(\"Minimum value:\", min_value)"
   ]
  },
  {
   "cell_type": "code",
   "execution_count": null,
   "id": "dc47b995-707b-4f1d-afc0-61b1c46f77f9",
   "metadata": {
    "deletable": false,
    "editable": true,
    "tags": [
     "exercise"
    ]
   },
   "outputs": [],
   "source": [
    "pi = 3.14159\n",
    "radius = 42\n",
    "area_of_the_circle = pi * (radius ** 2) # Computes the area of the circle\n",
    "circumference = 2 * pi * radius       # Computes the circumference\n",
    "min_value = min(area_of_the_circle, circumference) # Computes the minimum of the two values\n",
    "\n",
    "print(\"Area:\", area_of_the_circle)\n",
    "print(\"Circumference:\", circumference)\n",
    "print(\"Minimum value:\", min_value)"
   ]
  }
 ],
 "metadata": {
  "kernelspec": {
   "display_name": "Python 3",
   "language": "python",
   "name": "python3"
  },
  "language_info": {
   "codemirror_mode": {
    "name": "ipython",
    "version": 3
   },
   "file_extension": ".py",
   "mimetype": "text/x-python",
   "name": "python",
   "nbconvert_exporter": "python",
   "pygments_lexer": "ipython3",
   "version": "3.12.6"
  },
  "toc-autonumbering": false,
  "toc-showcode": true,
  "toc-showmarkdowntxt": true,
  "toc-showtags": true
 },
 "nbformat": 4,
 "nbformat_minor": 5
}
