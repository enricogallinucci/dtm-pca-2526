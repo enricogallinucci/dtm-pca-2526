{
 "cells": [
  {
   "cell_type": "markdown",
   "id": "675a7fdd-a835-4694-828b-36beba756f0c",
   "metadata": {
    "editable": true
   },
   "source": [
    "# Lab 3: Iterations and Strings\n",
    "\n",
    "Welcome to the third lab of the course. This lab covers:\n",
    "- Control flow with while and for loops\n",
    "- Manipulating strings"
   ]
  },
  {
   "cell_type": "markdown",
   "id": "232e1f9f-b3ef-4397-aa9a-e23d6c2d5412",
   "metadata": {
    "tags": []
   },
   "source": [
    "## Exercise 1: For and while loops\n",
    "\n",
    "(Let's write the control flow on the whiteboard before starting coding)\n",
    "\n",
    "Notice: some exercises will require to use some *supporting* variables to obtain the expected results.\n",
    "\n",
    "### For\n",
    "\n",
    "- Print the square of all numbers from 1 to 5 (included) in the form \"The square of 1 is 1\"\n",
    "- Print the overall sum of all even numbers from 2 to 20 (included)\n",
    "- Ask the user for an input number $n$ and print all numbers from the square root of $n$ (convereted to int) backwards to 1 (included); if the numbers to print are more than 5, stop and write \"There are too many numbers to print\"\n",
    "\n",
    "### While\n",
    "\n",
    "- Convert the last exercise for the for-cycle to a while-cycle\n",
    "- Ask the user for an input number $n$ and print the number of iterations required to make it <=10 by dividing it by 3\n",
    "- Write a countdown from 5 to 0 that, after the one, divides the previous number in half; stop it after 20 iterations!"
   ]
  },
  {
   "cell_type": "code",
   "execution_count": null,
   "id": "ba2fc5a2-c993-4fe2-a54c-5063f82f1b53",
   "metadata": {
    "tags": []
   },
   "outputs": [],
   "source": [
    "# FOR-1\n",
    "...\n",
    "\n",
    "# Expected output:\n",
    "# The square of 1 is 1\n",
    "# The square of 2 is 4\n",
    "# The square of 3 is 9\n",
    "# The square of 4 is 16\n",
    "# The square of 5 is 25"
   ]
  },
  {
   "cell_type": "code",
   "execution_count": null,
   "id": "3dcd9f82-8b6e-4164-aa8b-f76f1f49c10a",
   "metadata": {
    "tags": []
   },
   "outputs": [],
   "source": [
    "# FOR-2\n",
    "...\n",
    "\n",
    "# Expected output:\n",
    "# The overall sum of all even numbers from 2 to 20 is 110"
   ]
  },
  {
   "cell_type": "code",
   "execution_count": null,
   "id": "a79a429c-dbde-4b59-8644-d931ac020d6f",
   "metadata": {
    "tags": []
   },
   "outputs": [],
   "source": [
    "# FOR-3\n",
    "...\n",
    "\n",
    "# Expected output for 40:\n",
    "# 6\n",
    "# 5\n",
    "# 4\n",
    "# 3\n",
    "# 2\n",
    "# Too many numbers!"
   ]
  },
  {
   "cell_type": "code",
   "execution_count": null,
   "id": "813d726a-3573-430a-aeca-dc58835b714d",
   "metadata": {
    "tags": []
   },
   "outputs": [],
   "source": [
    "# WHILE-1\n",
    "..."
   ]
  },
  {
   "cell_type": "code",
   "execution_count": null,
   "id": "1720bdf2-0f39-4fd4-ad56-5ae017ea191f",
   "metadata": {
    "tags": []
   },
   "outputs": [],
   "source": [
    "# WHILE-2\n",
    "...\n",
    "\n",
    "# Expected output with 10 or lower:\n",
    "# It took 0 iterations to reduce 10 to 10 or lower by dividing it by 3\n",
    "#\n",
    "# Expected output with 100:\n",
    "# It took 3 iterations to reduce 100 to 10 or lower by dividing it by 3\n",
    "# \n",
    "# Expected output with 10000:\n",
    "# It took 7 iterations to reduce 10000 to 10 or lower by dividing it by 3\n",
    " "
   ]
  },
  {
   "cell_type": "code",
   "execution_count": null,
   "id": "1b4bf4b2-28fe-4401-b850-86c1a43e7c24",
   "metadata": {
    "tags": []
   },
   "outputs": [],
   "source": [
    "# WHILE-3\n",
    "...\n",
    "\n",
    "# Expected output:\n",
    "# 5\n",
    "# 4\n",
    "# 3\n",
    "# 2\n",
    "# 1\n",
    "# 0.5\n",
    "# 0.25\n",
    "# 0.125\n",
    "# 0.0625\n",
    "# 0.03125\n",
    "# 0.015625\n",
    "# 0.0078125\n",
    "# 0.00390625\n",
    "# 0.001953125\n",
    "# 0.0009765625\n",
    "# 0.00048828125\n",
    "# 0.000244140625\n",
    "# 0.0001220703125\n",
    "# 6.103515625e-05\n",
    "# 3.0517578125e-05"
   ]
  },
  {
   "cell_type": "markdown",
   "id": "d860c788-f8e6-47e7-9b6f-b0278a97fd61",
   "metadata": {
    "tags": []
   },
   "source": [
    "## Exercise 2: Fibonacci\n",
    "\n",
    "The Fibonacci sequence is a sequence of numbers that starts from 0 and 1 and is progressively built by summing the last two numbers.\n",
    "- **0, 1**\n",
    "- 0, **1, 1**\n",
    "- 0, 1, **1, 2**\n",
    "- 0, 1, 1, **2, 3**\n",
    "- 0, 1, 1, 2, **3, 5**\n",
    "- 0, 1, 1, 2, 3, **5, 8**\n",
    "- 0, 1, 1, 2, 3, 5, **8, 13**\n",
    "- ...\n",
    "\n",
    "Print all the Fibonacci numbers that are lower than 10000 (start from 0 and 1).\n",
    "- Step 1: figure out the control flow and which (and how many supporting variables you need) \n",
    "- Step 2: design the program that generates the numbers\n",
    "- Step 3: print the sequence in a single line, separated by commas: **\"0, 1, 1, 2, 3, 5, 8, 13, ...\"**"
   ]
  },
  {
   "cell_type": "code",
   "execution_count": null,
   "id": "b5c183c3-6dba-48f4-8682-6acf619002e3",
   "metadata": {
    "tags": []
   },
   "outputs": [],
   "source": [
    "# Write the program here\n",
    "..."
   ]
  },
  {
   "cell_type": "markdown",
   "id": "e734e5bf-5653-4320-bf81-0cca87fadf22",
   "metadata": {
    "deletable": true,
    "editable": true,
    "tags": []
   },
   "source": [
    "## Exercise 3: String slicing\n",
    "\n",
    "String slicing in Pyton is a powerful tool for extracting substrings. It is very important to become proficient in using this functionality because, as we will see later, it is not limited to strings, but is used in many other data structures.  \n",
    "Running the next cell will prompt you a substring that you must obtain by slicing the following string:\n",
    "- ```s = \"Winter is coming!\"```\n",
    "    \n",
    "For instance, if the substring is \"s com\", the correct answer is:\n",
    "- ```s[8:13]```\n",
    "    \n",
    "if the substring is \" enW\", a correct answer is:\n",
    "- ```s[6::-2]```\n",
    "\n",
    "A suggestion for finding the correct answers more quickly is to write down on paper a table with the index of each character in the string (0: \"W\", 1: \"i\", 2: \"n\", 3: \"t\", ...)."
   ]
  },
  {
   "cell_type": "code",
   "execution_count": null,
   "id": "c3f79cb7-30c0-46c8-8f61-1606338bf3d7",
   "metadata": {
    "deletable": true,
    "editable": true
   },
   "outputs": [],
   "source": [
    "s = \"Winter is coming!\" # CHANGE THIS STRING IF YOU WANT TO TRY SOMETHING DIFFERENT\n",
    "\n",
    "import random\n",
    "length = random.randrange(5)+1\n",
    "step = random.randrange(3)+1    \n",
    "start = random.randint(0, len(s) - step * length)    \n",
    "stop = start + step * length    \n",
    "if random.choice((0,0,1)) == 1:\n",
    "    start, stop, step = stop, start, -step        \n",
    "print(f\"The substring you must guess is '{s[start:stop:step]}'\")"
   ]
  },
  {
   "cell_type": "code",
   "execution_count": null,
   "id": "adcc4e08",
   "metadata": {},
   "outputs": [],
   "source": [
    "# Write here the slicing on 's' and see if it matches the substring indicated above; for instance: s[8:13:1]\n",
    "..."
   ]
  },
  {
   "cell_type": "markdown",
   "id": "95fb4e06-19b1-431f-9091-1074ad54185e",
   "metadata": {
    "deletable": true,
    "editable": true
   },
   "source": [
    "## Exercise 4: Caesar's cipher\n",
    "\n",
    "Caesar's cipher is one of the simplest *encryption* techniques. It is a *substitution cipher* in which each character is replaced by a character at a given number of positions down the alphabet. For instance, with a positive shift of 2, A would be replaced by C, B would become D, and so on.  \n",
    "\n",
    "Complete the following cell with a Python program that encrypts the string contained in variable *plaintext* using Caesar's cipher by shifting the Unicode characters by 7 positions: for instance, character 'A' (codepoint 65) should become character 'H' (codepoint 72). You can use Python functions ```ord()``` and ```chr()```, to get the codepoint of any unicode character and to get the character corresponding to a given codepoint, respectively.\n",
    "- ```ord('A')``` returns 65\n",
    "- ```chr(65)``` returns 'A'\n",
    "\n",
    "Note that in a real Caesar's cipher the alphabet is actually *rotated*: for instance, if the alphabet is \"A..Z\" and the shift is two positions, Z should become B. In this exercise you can ignore this issue, since the unicode range of characters is much larger than the ones contained in the string to be encrypted."
   ]
  },
  {
   "cell_type": "code",
   "execution_count": null,
   "id": "f5e26d94-12e1-4af0-981b-89ea30e8f4ba",
   "metadata": {
    "deletable": true,
    "editable": true,
    "tags": [
     "exercise"
    ]
   },
   "outputs": [],
   "source": [
    "# The text to be encrypted\n",
    "plaintext = \"And so he spoke, and so he spoke, that lord of Castamere, But now the rains weep o'er his hall, with no one there to hear.\"\n",
    "\n",
    "# The encrypted text\n",
    "ciphertext = \"\"\n",
    "\n",
    "# Write the encryption program here\n",
    "...\n",
    "\n",
    "# Expected output: Huk'zv'ol'zwvrl3'huk'zv'ol'zwvrl3'{oh{'svyk'vm'Jhz{htlyl3'I|{'uv~'{ol'yhpuz'~llw'v.ly'opz'ohss3'~p{o'uv'vul'{olyl'{v'olhy5"
   ]
  },
  {
   "cell_type": "markdown",
   "id": "ab9f5ca1-43c7-49d4-b4e9-e8f53968cc6a",
   "metadata": {
    "deletable": true,
    "editable": true,
    "tags": []
   },
   "source": [
    "## (Extra) Exercise 5: Breaking Caesar's cipher\n",
    "\n",
    "You obtained a secret message encrypted with Caesar's cipher. \n",
    "You don't know how many positions the characters have been moved by, but you know it's a value between -15 and + 15.  \n",
    "Write a Python program that tries all possibilities (i.e., a [brute force attack](https://en.wikipedia.org/wiki/Brute-force_attack)); one of them will show the message in English."
   ]
  },
  {
   "cell_type": "code",
   "execution_count": null,
   "id": "e300f905-fc58-44c4-af41-d7e2d956fd22",
   "metadata": {
    "deletable": true,
    "editable": true,
    "tags": [
     "exercise"
    ]
   },
   "outputs": [],
   "source": [
    "# The text to be encrypted\n",
    "encrypted_message = \"Li#zh#fdq*w#olyh#wrjhwkhu/#zh*uh#jrqqd#glh#dorqh\"\n",
    "\n",
    "# Write your hacking program here\n",
    "..."
   ]
  },
  {
   "cell_type": "markdown",
   "id": "db87c91b-69c1-49f2-b92f-964888654a66",
   "metadata": {
    "deletable": true,
    "editable": true,
    "tags": []
   },
   "source": [
    "## (Extra) Exercise 6: Rock Paper Scissors\n",
    "\n",
    "Write a Python program that enables two users to play the [*Rock Paper Scissors*](https://en.wikipedia.org/wiki/Rock_paper_scissors) game.  \n",
    "Each player will enter either \"R\" for rock, \"P\" for paper, or \"S\" for scissors: the program should announce the winner and ask if the players want to play another round (expected answer: \"Y\" for yes, or \"N\" for no).\n",
    "\n",
    "*Example:*\n",
    "\n",
    "    Welcome to a new round of Rock, Paper, Scissors.\n",
    "    Player 1 (R/P/S): R\n",
    "    Player 2 (R/P/S): X\n",
    "    Please enter \"R\", \"P\", or \"S\"\n",
    "    Player 2 (R/P/S): P\n",
    "    Paper beats Rock: Player 2 wins.\n",
    "    Play again (Y/N)? Y\n",
    "\n",
    "    Welcome to a new round of Rock, Paper, Scissors.\n",
    "    Player 1 (R/P/S): S\n",
    "    Player 2 (R/P/S): S\n",
    "    Tie!\n",
    "    Play again (Y/N)? Y\n",
    "\n",
    "    Welcome to a new round of Rock, Paper, Scissors.\n",
    "    Player 1 (R/P/S): S\n",
    "    Player 2 (R/P/S): P\n",
    "    Scissors beats Paper: Player 1 wins.\n",
    "    Play again (Y/N)? N\n",
    "\n",
    "If you want, you may use some Unicode symbols to enrich the output of the program, such as \"\\u26F0\", \"\\U0001F9FB\", \"\\u2702\", or the ones you prefer.\n",
    "\n",
    "Note that we understand this program is not very useful since Player 2 can always see what Player 1 chooses: please ignore this issue."
   ]
  },
  {
   "cell_type": "code",
   "execution_count": null,
   "id": "32e96a06-f7bd-4c04-9065-63be18244759",
   "metadata": {
    "deletable": true,
    "editable": true,
    "tags": [
     "exercise"
    ]
   },
   "outputs": [],
   "source": [
    "# Write the Python program here\n",
    "..."
   ]
  }
 ],
 "metadata": {
  "kernelspec": {
   "display_name": "Python 3 (ipykernel)",
   "language": "python",
   "name": "python3"
  },
  "language_info": {
   "codemirror_mode": {
    "name": "ipython",
    "version": 3
   },
   "file_extension": ".py",
   "mimetype": "text/x-python",
   "name": "python",
   "nbconvert_exporter": "python",
   "pygments_lexer": "ipython3",
   "version": "3.9.0"
  },
  "toc-autonumbering": false,
  "toc-showcode": true,
  "toc-showmarkdowntxt": true,
  "toc-showtags": true
 },
 "nbformat": 4,
 "nbformat_minor": 5
}
